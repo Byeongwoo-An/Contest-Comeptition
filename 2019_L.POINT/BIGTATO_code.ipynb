{
 "cells": [
  {
   "cell_type": "code",
   "execution_count": 1,
   "metadata": {
    "_cell_guid": "b1076dfc-b9ad-4769-8c92-a6c4dae69d19",
    "_uuid": "8f2839f25d086af736a60e9eeb907d3b93b6e0e5"
   },
   "outputs": [
    {
     "name": "stdout",
     "output_type": "stream",
     "text": [
      "/kaggle/input/lpoint-competetion/Customer_Demographic_info.csv\n",
      "/kaggle/input/lpoint-competetion/Product_Classify_info.csv\n",
      "/kaggle/input/lpoint-competetion/Transaction_info.csv\n",
      "/kaggle/input/lpoint-competetion/Online_Behavior_info.csv\n"
     ]
    }
   ],
   "source": [
    "# This Python 3 environment comes with many helpful analytics libraries installed\n",
    "# It is defined by the kaggle/python docker image: https://github.com/kaggle/docker-python\n",
    "# For example, here's several helpful packages to load in \n",
    "\n",
    "import numpy as np # linear algebra\n",
    "import pandas as pd # data processing, CSV file I/O (e.g. pd.read_csv)\n",
    "\n",
    "# Input data files are available in the \"../input/\" directory.\n",
    "# For example, running this (by clicking run or pressing Shift+Enter) will list all files under the input directory\n",
    "\n",
    "import os\n",
    "for dirname, _, filenames in os.walk('/kaggle/input'):\n",
    "    for filename in filenames:\n",
    "        print(os.path.join(dirname, filename))\n",
    "\n",
    "# Any results you write to the current directory are saved as output."
   ]
  },
  {
   "cell_type": "code",
   "execution_count": 2,
   "metadata": {},
   "outputs": [],
   "source": [
    "df_trans = pd.read_csv(\"/kaggle/input/lpoint-competetion/Transaction_info.csv\")\n",
    "df_prodt = pd.read_csv(\"/kaggle/input/lpoint-competetion/Product_Classify_info.csv\")"
   ]
  },
  {
   "cell_type": "code",
   "execution_count": 3,
   "metadata": {
    "_cell_guid": "79c7e3d0-c299-4dcb-8224-4455121ee9b0",
    "_uuid": "d629ff2d2480ee46fbb7e2d37f6b5fab8052498a"
   },
   "outputs": [],
   "source": [
    "# Library\n",
    "import pandas as np\n",
    "from pandas import Series, DataFrame\n",
    "import numpy as np\n",
    "from mlxtend.preprocessing import TransactionEncoder\n",
    "from mlxtend.frequent_patterns import apriori\n",
    "from mlxtend.frequent_patterns import association_rules\n",
    "\n",
    "te = TransactionEncoder()\n",
    "\n",
    "\n",
    "# 소분류 Null Data 제거\n",
    "df_prodt.drop([666])\n",
    "df_prodt.drop([195])\n",
    "df_prodt.drop([523])\n",
    "\n",
    "\n",
    "\n",
    "df_trans['pd_c'] = df_trans['pd_c'].replace('unknown', np.nan)\n",
    "df_trans['pd_c'] = df_trans['pd_c'].replace(667, np.nan)\n",
    "df_trans['pd_c'] = df_trans['pd_c'].replace(196, np.nan)\n",
    "df_trans['pd_c'] = df_trans['pd_c'].replace(524, np.nan)\n",
    "df_trans = df_trans.dropna()\n",
    "# unknown, NUll data 제거\n",
    "\n",
    "df_trans['pd_c'] = df_trans['pd_c'].astype('int64') # merge하기 위해 데이터타입 변환\n",
    "df_trans.sort_values(by=['clnt_id'], inplace=True)\n",
    "\n",
    "\n",
    "PotenCust_ = DataFrame(df_trans.groupby(['clnt_id'])['biz_unit'].nunique() >= 2)\n",
    "# biz_unit이 2개 이상이면 True 반환\n",
    "\n",
    "PotenCust_.to_csv('PotenCust_.csv')\n",
    "PotenCust = pd.read_csv('PotenCust_.csv') # Kaggle에서 DataFrame 형태로 만들기 위해\n",
    "\n",
    "PotenCust['biz_unit'] = PotenCust['biz_unit'].astype('str')\n",
    "PotenCust = PotenCust[PotenCust['biz_unit'].isin(['True'])]\n",
    "\n",
    "'''\n",
    "PotenCust : 우리 알고리즘에 맞는 고객을 정의하기 위해서 단일 Biz_unit에서\n",
    "거래한 고객을 제외시킨 DataFrame\n",
    "\n",
    "'''\n",
    "\n",
    "\n",
    "# Dataset merge\n",
    "trans_Poten = pd.merge(df_trans,PotenCust,on='clnt_id',how='right')\n",
    "\n",
    "trans_Poten = trans_Poten[['clnt_id','biz_unit_x','pd_c']]\n",
    "trans_Poten['pd_c'] = trans_Poten['pd_c'].astype('int64')\n",
    "df_Poten = pd.merge(trans_Poten,df_prodt,on='pd_c',how='left')[['clnt_id','biz_unit_x','clac_nm3']]\n",
    "\n",
    "df_Poten['biz_nm3'] = df_Poten['biz_unit_x'] +'_'+ df_Poten['clac_nm3']\n",
    "# biz_unit, 소분류를 합쳐서 새로운 column 생성\n",
    "Biz_nm3 = df_Poten[['clnt_id','biz_nm3']] \n",
    "Biz_nm3 = Biz_nm3.dropna()"
   ]
  },
  {
   "cell_type": "code",
   "execution_count": 4,
   "metadata": {
    "_cell_guid": "79c7e3d0-c299-4dcb-8224-4455121ee9b0",
    "_uuid": "d629ff2d2480ee46fbb7e2d37f6b5fab8052498a"
   },
   "outputs": [
    {
     "data": {
      "text/plain": [
       "clnt_id\n",
       "2        [A03_Fried Tofu, A03_Crab Sticks, A03_Canned V...\n",
       "9        [A03_Toothbrushes, A03_Frozen Hotdogs, A03_Oth...\n",
       "20       [A03_Onions, A03_Eggplants, A03_Oyster Mushroo...\n",
       "23       [B02_Onions, B02_Salads, B02_Soybean Sprouts, ...\n",
       "24       [A03_Pasta Sauces, A03_Functional Milk, A03_Fr...\n",
       "                               ...                        \n",
       "72356    [A01_Other Functional Drinks, A01_Mobile Batte...\n",
       "72373    [A02_Others, A03_Salads, A02_Electric Fans, A0...\n",
       "72410    [A02_Kitchen Cookware Sets, B01_General Snacks...\n",
       "72423            [B03_Beauty Supplements, A01_Cell Phones]\n",
       "72424    [B01_Chicken Eggs, B01_Bakery, B01_Jellies, A0...\n",
       "Name: biz_nm3, Length: 7190, dtype: object"
      ]
     },
     "execution_count": 4,
     "metadata": {},
     "output_type": "execute_result"
    }
   ],
   "source": [
    "lst =Biz_nm3.groupby(['clnt_id'])['biz_nm3'].apply(list) #Apriori를 위해 list형태로 변환\n",
    "lst"
   ]
  },
  {
   "cell_type": "code",
   "execution_count": 5,
   "metadata": {
    "_cell_guid": "79c7e3d0-c299-4dcb-8224-4455121ee9b0",
    "_uuid": "d629ff2d2480ee46fbb7e2d37f6b5fab8052498a"
   },
   "outputs": [],
   "source": [
    "te_ary = te.fit(lst).transform(lst)\n",
    "apriori_te = pd.DataFrame(te_ary, columns=te.columns_)"
   ]
  },
  {
   "cell_type": "code",
   "execution_count": 6,
   "metadata": {
    "_cell_guid": "79c7e3d0-c299-4dcb-8224-4455121ee9b0",
    "_uuid": "d629ff2d2480ee46fbb7e2d37f6b5fab8052498a"
   },
   "outputs": [],
   "source": [
    "frequent_itemsets = apriori(apriori_te, min_support=0.03, use_colnames=True)"
   ]
  },
  {
   "cell_type": "code",
   "execution_count": 7,
   "metadata": {
    "_cell_guid": "79c7e3d0-c299-4dcb-8224-4455121ee9b0",
    "_uuid": "d629ff2d2480ee46fbb7e2d37f6b5fab8052498a"
   },
   "outputs": [
    {
     "name": "stderr",
     "output_type": "stream",
     "text": [
      "/opt/conda/lib/python3.6/site-packages/ipykernel_launcher.py:64: SettingWithCopyWarning: \n",
      "A value is trying to be set on a copy of a slice from a DataFrame\n",
      "\n",
      "See the caveats in the documentation: http://pandas.pydata.org/pandas-docs/stable/user_guide/indexing.html#returning-a-view-versus-a-copy\n"
     ]
    },
    {
     "data": {
      "text/plain": [
       "'\\nBiz_unit구분을 위해 지웠던 상품 소분류명을 확인하기 위해서 처음 만들었던\\nindex_result와 merge함\\n'"
      ]
     },
     "execution_count": 7,
     "metadata": {},
     "output_type": "execute_result"
    }
   ],
   "source": [
    "'''\n",
    "minsup 0.03의 Frequent Itemsets 생성\n",
    "'''\n",
    "\n",
    "#Arules\n",
    "arules = association_rules(frequent_itemsets, metric=\"confidence\", min_threshold=0.001)\n",
    "\n",
    "arules[\"consequents_len\"] = arules[\"consequents\"].apply(lambda x: len(x))\n",
    "arules[\"antecedents_len\"] = arules[\"antecedents\"].apply(lambda y: len(y))\n",
    "result = arules[(arules[\"antecedents_len\"] == 1) & (arules['consequents_len'] ==2)].sort_values(by=['lift'],ascending=True)\n",
    "# antecedents 한 개, consequents 2개의 결과가 나오도록 Arules 실행\n",
    "\n",
    "arules[\"consequents_len\"] = arules[\"consequents\"].apply(lambda x: len(x))\n",
    "arules[\"antecedents_len\"] = arules[\"antecedents\"].apply(lambda y: len(y))\n",
    "index_result = arules[(arules[\"antecedents_len\"] == 1) & (arules['consequents_len'] ==2)].sort_values(by=['lift'],ascending=True)\n",
    "'''\n",
    "result dataframe에서 antecedents(1개), consequents(2개)이면서 세 거래가 모두 같은 곳에서 진행된 row는 지우고\n",
    "비교하기 위해서 result, index_result 두 개의 데이터프레임을 만듦\n",
    "'''\n",
    "\n",
    "result[\"antecedents\"] = result[\"antecedents\"].apply(lambda x: list(x)[0:]).astype(\"unicode\")\n",
    "result[\"consequents\"] = result[\"consequents\"].apply(lambda y: list(y)[0:]).astype('unicode')\n",
    "# Arulse의 결과가 frozenset으로 반환됨에 따라 unicode로 변환\n",
    "\n",
    "result[\"antecedents\"] = result[\"antecedents\"].str.strip('[]')\n",
    "result[\"consequents\"] = result[\"consequents\"].str.strip('[]')\n",
    "# list '[]' 기호 제거\n",
    "\n",
    "result[\"antecedents\"] = result.antecedents.apply(lambda x: x.split(', '))\n",
    "result[\"consequents\"] = result.consequents.apply(lambda x: x.split(\"', \"))\n",
    "# consequents의 결과를 Biz_unit별로 구분하기 위해 split함\n",
    "\n",
    "result[\"antecedents\"]=result[\"antecedents\"].apply(lambda x: [x[0][1:4]])\n",
    "result[\"consequents\"]=result[\"consequents\"].apply(lambda y: [y[0][1:4],y[1][1:4]])\n",
    "# Biz_unit만을 비교하기 위해서 Biz_unit만 남도록 문자열을 자름\n",
    "\n",
    "result['antecedents_1'] = 0\n",
    "result['consequents_1'] = 0\n",
    "result['consequents_2'] = 0\n",
    "result['T/F'] = 'different'\n",
    "# 구분한 Biz_unit을 입력하기 위해 새로운 column 삽입\n",
    "\n",
    "\n",
    "# Biz_unit을 구분하고 새로운 column에 삽입\n",
    "for i in range(len(result['antecedents'])):\n",
    "    a = str(result.iloc[i,0][0])\n",
    "    b = str(result.iloc[i,1][0])\n",
    "    c = str(result.iloc[i,1][1])\n",
    "    \n",
    "    result.iloc[i,11] = a\n",
    "    result.iloc[i,12] = b\n",
    "    result.iloc[i,13] = c\n",
    "    i=i+1\n",
    "    \n",
    "    \n",
    "# 모두 같은 Biz_unit의 경우 NaN삽입, 이후 dropna()\n",
    "for i in range(len(result['antecedents'])):\n",
    "    if result.iloc[i,11] == result.iloc[i,12] == result.iloc[i,13]:\n",
    "        result.iloc[i,14] = np.nan\n",
    "    i=i+1\n",
    "      \n",
    "result_ = result.dropna()\n",
    "\n",
    "result_.sort_values(by=['lift'], ascending=False, inplace=True)\n",
    "\n",
    "\n",
    "final = pd.merge(index_result, result_, left_index=True, right_index=True, how='right')\n",
    "final[['antecedents_x','consequents_x','antecedent support_x',\n",
    "       'consequent support_x','support_x','confidence_x',\n",
    "       'lift_x','leverage_x','conviction_x','consequents_len_x',\n",
    "       'antecedents_len_x']]\n",
    "\n",
    "'''\n",
    "Biz_unit구분을 위해 지웠던 상품 소분류명을 확인하기 위해서 처음 만들었던\n",
    "index_result와 merge함\n",
    "'''"
   ]
  },
  {
   "cell_type": "code",
   "execution_count": null,
   "metadata": {},
   "outputs": [],
   "source": []
  },
  {
   "cell_type": "code",
   "execution_count": null,
   "metadata": {},
   "outputs": [],
   "source": []
  },
  {
   "cell_type": "code",
   "execution_count": null,
   "metadata": {},
   "outputs": [],
   "source": []
  },
  {
   "cell_type": "markdown",
   "metadata": {},
   "source": [
    "# Visualization"
   ]
  },
  {
   "cell_type": "markdown",
   "metadata": {},
   "source": [
    "## Library"
   ]
  },
  {
   "cell_type": "code",
   "execution_count": 8,
   "metadata": {},
   "outputs": [],
   "source": [
    "import random\n",
    "import matplotlib.pyplot as plt"
   ]
  },
  {
   "cell_type": "code",
   "execution_count": 9,
   "metadata": {},
   "outputs": [
    {
     "data": {
      "text/html": [
       "<div>\n",
       "<style scoped>\n",
       "    .dataframe tbody tr th:only-of-type {\n",
       "        vertical-align: middle;\n",
       "    }\n",
       "\n",
       "    .dataframe tbody tr th {\n",
       "        vertical-align: top;\n",
       "    }\n",
       "\n",
       "    .dataframe thead th {\n",
       "        text-align: right;\n",
       "    }\n",
       "</style>\n",
       "<table border=\"1\" class=\"dataframe\">\n",
       "  <thead>\n",
       "    <tr style=\"text-align: right;\">\n",
       "      <th></th>\n",
       "      <th>antecedents_x</th>\n",
       "      <th>consequents_x</th>\n",
       "      <th>antecedent support_x</th>\n",
       "      <th>consequent support_x</th>\n",
       "      <th>support_x</th>\n",
       "      <th>confidence_x</th>\n",
       "      <th>lift_x</th>\n",
       "      <th>leverage_x</th>\n",
       "      <th>conviction_x</th>\n",
       "      <th>consequents_len_x</th>\n",
       "      <th>...</th>\n",
       "      <th>confidence_y</th>\n",
       "      <th>lift_y</th>\n",
       "      <th>leverage_y</th>\n",
       "      <th>conviction_y</th>\n",
       "      <th>consequents_len_y</th>\n",
       "      <th>antecedents_len_y</th>\n",
       "      <th>antecedents_1</th>\n",
       "      <th>consequents_1</th>\n",
       "      <th>consequents_2</th>\n",
       "      <th>T/F</th>\n",
       "    </tr>\n",
       "  </thead>\n",
       "  <tbody>\n",
       "    <tr>\n",
       "      <th>14433</th>\n",
       "      <td>(A03_Corn Snacks)</td>\n",
       "      <td>(A03_General Snacks, B02_General Snacks)</td>\n",
       "      <td>0.142837</td>\n",
       "      <td>0.056885</td>\n",
       "      <td>0.032545</td>\n",
       "      <td>0.227848</td>\n",
       "      <td>4.005447</td>\n",
       "      <td>0.024420</td>\n",
       "      <td>1.221412</td>\n",
       "      <td>2</td>\n",
       "      <td>...</td>\n",
       "      <td>0.227848</td>\n",
       "      <td>4.005447</td>\n",
       "      <td>0.024420</td>\n",
       "      <td>1.221412</td>\n",
       "      <td>2</td>\n",
       "      <td>1</td>\n",
       "      <td>A03</td>\n",
       "      <td>A03</td>\n",
       "      <td>B02</td>\n",
       "      <td>different</td>\n",
       "    </tr>\n",
       "    <tr>\n",
       "      <th>14431</th>\n",
       "      <td>(A03_General Snacks)</td>\n",
       "      <td>(B02_General Snacks, A03_Corn Snacks)</td>\n",
       "      <td>0.185257</td>\n",
       "      <td>0.044228</td>\n",
       "      <td>0.032545</td>\n",
       "      <td>0.175676</td>\n",
       "      <td>3.972038</td>\n",
       "      <td>0.024352</td>\n",
       "      <td>1.159461</td>\n",
       "      <td>2</td>\n",
       "      <td>...</td>\n",
       "      <td>0.175676</td>\n",
       "      <td>3.972038</td>\n",
       "      <td>0.024352</td>\n",
       "      <td>1.159461</td>\n",
       "      <td>2</td>\n",
       "      <td>1</td>\n",
       "      <td>A03</td>\n",
       "      <td>B02</td>\n",
       "      <td>A03</td>\n",
       "      <td>different</td>\n",
       "    </tr>\n",
       "    <tr>\n",
       "      <th>16327</th>\n",
       "      <td>(B02_Fresh Milk)</td>\n",
       "      <td>(B02_Spoon Type Yogurts, A03_Fresh Milk)</td>\n",
       "      <td>0.200974</td>\n",
       "      <td>0.039917</td>\n",
       "      <td>0.030181</td>\n",
       "      <td>0.150173</td>\n",
       "      <td>3.762174</td>\n",
       "      <td>0.022159</td>\n",
       "      <td>1.129740</td>\n",
       "      <td>2</td>\n",
       "      <td>...</td>\n",
       "      <td>0.150173</td>\n",
       "      <td>3.762174</td>\n",
       "      <td>0.022159</td>\n",
       "      <td>1.129740</td>\n",
       "      <td>2</td>\n",
       "      <td>1</td>\n",
       "      <td>B02</td>\n",
       "      <td>B02</td>\n",
       "      <td>A03</td>\n",
       "      <td>different</td>\n",
       "    </tr>\n",
       "    <tr>\n",
       "      <th>12387</th>\n",
       "      <td>(B02_Soybean Sprouts)</td>\n",
       "      <td>(A03_Chicken Eggs, B02_Tofu)</td>\n",
       "      <td>0.104033</td>\n",
       "      <td>0.077191</td>\n",
       "      <td>0.030181</td>\n",
       "      <td>0.290107</td>\n",
       "      <td>3.758322</td>\n",
       "      <td>0.022150</td>\n",
       "      <td>1.299927</td>\n",
       "      <td>2</td>\n",
       "      <td>...</td>\n",
       "      <td>0.290107</td>\n",
       "      <td>3.758322</td>\n",
       "      <td>0.022150</td>\n",
       "      <td>1.299927</td>\n",
       "      <td>2</td>\n",
       "      <td>1</td>\n",
       "      <td>B02</td>\n",
       "      <td>A03</td>\n",
       "      <td>B02</td>\n",
       "      <td>different</td>\n",
       "    </tr>\n",
       "    <tr>\n",
       "      <th>16310</th>\n",
       "      <td>(B02_Fresh Milk)</td>\n",
       "      <td>(B02_Chicken Eggs, A03_Fresh Milk)</td>\n",
       "      <td>0.200974</td>\n",
       "      <td>0.045341</td>\n",
       "      <td>0.033658</td>\n",
       "      <td>0.167474</td>\n",
       "      <td>3.693676</td>\n",
       "      <td>0.024546</td>\n",
       "      <td>1.146702</td>\n",
       "      <td>2</td>\n",
       "      <td>...</td>\n",
       "      <td>0.167474</td>\n",
       "      <td>3.693676</td>\n",
       "      <td>0.024546</td>\n",
       "      <td>1.146702</td>\n",
       "      <td>2</td>\n",
       "      <td>1</td>\n",
       "      <td>B02</td>\n",
       "      <td>B02</td>\n",
       "      <td>A03</td>\n",
       "      <td>different</td>\n",
       "    </tr>\n",
       "  </tbody>\n",
       "</table>\n",
       "<p>5 rows × 26 columns</p>\n",
       "</div>"
      ],
      "text/plain": [
       "               antecedents_x                             consequents_x  \\\n",
       "14433      (A03_Corn Snacks)  (A03_General Snacks, B02_General Snacks)   \n",
       "14431   (A03_General Snacks)     (B02_General Snacks, A03_Corn Snacks)   \n",
       "16327       (B02_Fresh Milk)  (B02_Spoon Type Yogurts, A03_Fresh Milk)   \n",
       "12387  (B02_Soybean Sprouts)              (A03_Chicken Eggs, B02_Tofu)   \n",
       "16310       (B02_Fresh Milk)        (B02_Chicken Eggs, A03_Fresh Milk)   \n",
       "\n",
       "       antecedent support_x  consequent support_x  support_x  confidence_x  \\\n",
       "14433              0.142837              0.056885   0.032545      0.227848   \n",
       "14431              0.185257              0.044228   0.032545      0.175676   \n",
       "16327              0.200974              0.039917   0.030181      0.150173   \n",
       "12387              0.104033              0.077191   0.030181      0.290107   \n",
       "16310              0.200974              0.045341   0.033658      0.167474   \n",
       "\n",
       "         lift_x  leverage_x  conviction_x  consequents_len_x  ...  \\\n",
       "14433  4.005447    0.024420      1.221412                  2  ...   \n",
       "14431  3.972038    0.024352      1.159461                  2  ...   \n",
       "16327  3.762174    0.022159      1.129740                  2  ...   \n",
       "12387  3.758322    0.022150      1.299927                  2  ...   \n",
       "16310  3.693676    0.024546      1.146702                  2  ...   \n",
       "\n",
       "       confidence_y    lift_y leverage_y  conviction_y  consequents_len_y  \\\n",
       "14433      0.227848  4.005447   0.024420      1.221412                  2   \n",
       "14431      0.175676  3.972038   0.024352      1.159461                  2   \n",
       "16327      0.150173  3.762174   0.022159      1.129740                  2   \n",
       "12387      0.290107  3.758322   0.022150      1.299927                  2   \n",
       "16310      0.167474  3.693676   0.024546      1.146702                  2   \n",
       "\n",
       "       antecedents_len_y  antecedents_1  consequents_1  consequents_2  \\\n",
       "14433                  1            A03            A03            B02   \n",
       "14431                  1            A03            B02            A03   \n",
       "16327                  1            B02            B02            A03   \n",
       "12387                  1            B02            A03            B02   \n",
       "16310                  1            B02            B02            A03   \n",
       "\n",
       "             T/F  \n",
       "14433  different  \n",
       "14431  different  \n",
       "16327  different  \n",
       "12387  different  \n",
       "16310  different  \n",
       "\n",
       "[5 rows x 26 columns]"
      ]
     },
     "execution_count": 9,
     "metadata": {},
     "output_type": "execute_result"
    }
   ],
   "source": [
    "final.head(5)"
   ]
  },
  {
   "cell_type": "code",
   "execution_count": 10,
   "metadata": {},
   "outputs": [
    {
     "name": "stderr",
     "output_type": "stream",
     "text": [
      "/opt/conda/lib/python3.6/site-packages/ipykernel_launcher.py:1: FutureWarning: Method .as_matrix will be removed in a future version. Use .values instead.\n",
      "  \"\"\"Entry point for launching an IPython kernel.\n",
      "/opt/conda/lib/python3.6/site-packages/ipykernel_launcher.py:2: FutureWarning: Method .as_matrix will be removed in a future version. Use .values instead.\n",
      "  \n"
     ]
    }
   ],
   "source": [
    "support=final.as_matrix(columns=['support_x'])\n",
    "confidence=final.as_matrix(columns=['confidence_x'])"
   ]
  },
  {
   "cell_type": "code",
   "execution_count": 11,
   "metadata": {},
   "outputs": [],
   "source": [
    "###  node Graph Function\n",
    "\n",
    "def draw_graph(rules, rules_to_show):\n",
    "    import networkx as nx  \n",
    "    G1 = nx.DiGraph()\n",
    "   \n",
    "    color_map=[]\n",
    "    N = 50\n",
    "    colors = np.random.rand(N)    \n",
    "    strs=['R0', 'R1', 'R2', 'R3', 'R4', 'R5', 'R6', 'R7', 'R8', 'R9', 'R10', 'R11']   \n",
    "   \n",
    "   \n",
    "    for i in range (rules_to_show):\n",
    "        G1.add_nodes_from([\"R\"+str(i)])\n",
    "        for a in final.iloc[i]['antecedents_x']:\n",
    "            G1.add_nodes_from([a])\n",
    "            G1.add_edge(a, \"R\"+str(i), color=colors[i] , weight = 1)\n",
    "        for c in final.iloc[i]['consequents_x']:\n",
    "            G1.add_nodes_from([c])\n",
    "            G1.add_edge(\"R\"+str(i), c, color=colors[i],  weight = 1)\n",
    " \n",
    "    for node in G1:\n",
    "        found_a_string = False\n",
    "        for item in strs:\n",
    "            if node==item:\n",
    "                found_a_string = True\n",
    "        if found_a_string:\n",
    "            color_map.append('yellow')\n",
    "        else:\n",
    "            color_map.append('green')       \n",
    "    edges = G1.edges()\n",
    "    colors = [G1[u][v]['color'] for u,v in edges]\n",
    "    weights = [G1[u][v]['weight'] for u,v in edges]\n",
    " \n",
    "    pos = nx.spring_layout(G1, k=16, scale=1)\n",
    "    nx.draw(G1, pos, edges=edges, node_color = color_map, edge_color=colors, width=weights, font_size=3, with_labels=False)            \n",
    "   \n",
    "    for p in pos:  # raise text positions\n",
    "        pos[p][1] += 0.07\n",
    "    nx.draw_networkx_labels(G1, pos)\n",
    "    plt.show()"
   ]
  },
  {
   "cell_type": "code",
   "execution_count": 12,
   "metadata": {},
   "outputs": [
    {
     "data": {
      "image/png": "[encoded data removed]",
      "text/plain": [
       "<Figure size 432x288 with 1 Axes>"
      ]
     },
     "metadata": {
      "needs_background": "light"
     },
     "output_type": "display_data"
    }
   ],
   "source": [
    "for i in range (len(support)):\n",
    "    support[i] = support[i] + 0.0025 * (random.randint(1,10) - 5) \n",
    "    confidence[i] = confidence[i] + 0.0025 * (random.randint(1,10) - 5)\n",
    "\n",
    "plt.scatter(support, confidence,   alpha=0.5, marker=\".\")\n",
    "plt.xlabel('support')\n",
    "plt.ylabel('confidence') \n",
    "plt.show()"
   ]
  },
  {
   "cell_type": "code",
   "execution_count": 13,
   "metadata": {},
   "outputs": [
    {
     "data": {
      "image/png": "[encoded data removed]",
      "text/plain": [
       "<Figure size 432x288 with 1 Axes>"
      ]
     },
     "metadata": {},
     "output_type": "display_data"
    }
   ],
   "source": [
    "draw_graph(final, 5)"
   ]
  },
  {
   "cell_type": "code",
   "execution_count": null,
   "metadata": {},
   "outputs": [],
   "source": []
  }
 ],
 "metadata": {
  "kernelspec": {
   "display_name": "Python 3",
   "language": "python",
   "name": "python3"
  },
  "language_info": {
   "codemirror_mode": {
    "name": "ipython",
    "version": 3
   },
   "file_extension": ".py",
   "mimetype": "text/x-python",
   "name": "python",
   "nbconvert_exporter": "python",
   "pygments_lexer": "ipython3",
   "version": "3.6.6"
  }
 },
 "nbformat": 4,
 "nbformat_minor": 1
}
